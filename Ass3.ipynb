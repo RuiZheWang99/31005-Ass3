{
 "cells": [
  {
   "cell_type": "markdown",
   "metadata": {},
   "source": [
    "# Ass3 Take Home Exam\n",
    "RuiZhe Wang 13163617"
   ]
  },
  {
   "cell_type": "markdown",
   "metadata": {},
   "source": [
    "# Question1\n",
    "Following your graduation, you are hired by a polling organisation as a data analyst. As social media has exploded and transformed the way people interact with each other, it would be a great idea to use messages collected from social media to predict how the user can be converted to change his/her support. List three challenges to solving this problem. With reference to existing approaches, describe the design of your system. Discuss the ethical and social consequence of this study."
   ]
  },
  {
   "cell_type": "markdown",
   "metadata": {},
   "source": [
    "# Answer1\n",
    "# Challange 1: How to get information from social media in the first place."
   ]
  },
  {
   "cell_type": "markdown",
   "metadata": {},
   "source": [
    "What is social media? let's look at each word individually. As for the\"social\" part, it means interacting with other people by receiving and sharing information and message with them. And \"media part\" means a kind of communication instrument, such as the internet and radio. We can pull a broad but basic definition: social media is a web-based communication tool and people could use it to interact with each other people by sharing or getting information. If we want to predict what it and why it will happen, we had better use the predictive model based on the associations between variables. Most of the predictive models could bring out customer data, such as historical and transactional data to find change and risks. The model could guide the user's decision for lead scoring. Three most normal models include prescriptive, predictive and descriptive."
   ]
  },
  {
   "cell_type": "markdown",
   "metadata": {},
   "source": [
    "![01.PNG](./01.PNG)"
   ]
  },
  {
   "cell_type": "markdown",
   "metadata": {},
   "source": [
    "# ![02.PNG](./02.PNG)"
   ]
  },
  {
   "cell_type": "markdown",
   "metadata": {},
   "source": [
    "A data analyst should obtain descriptive data for the place because of user posts, mentions, page views and comments are all of these. Use generated models to capture user preference and user behavioural, particularly follower and registered user. Main areas of concern are most popular, most retweets, most favourites, most replies, most clicks, and most reach."
   ]
  },
  {
   "cell_type": "markdown",
   "metadata": {},
   "source": [
    "# Challange 2: Get data that is not influenced by emotion."
   ]
  },
  {
   "cell_type": "markdown",
   "metadata": {},
   "source": [
    "One of the biggest challenges of data analysis is to determine whether the data itself has emotional factors.As for the classifying opinions, if make it as positive or negative, will make useful to gauge public sentiment towards a certain main topic and to know the customer feeling about the service and product. It is better-used sentiment analysis which is a process of mining subjective message from the original data and categorizing it. There are five main flavours and types of the polarity of the opinion, from the focus on polarity(positive, negative) to identify intentions(such as interested or uninterested). For example, very positive, positive, neutral, negative and very negative. "
   ]
  },
  {
   "cell_type": "markdown",
   "metadata": {},
   "source": [
    "![03.PNG](./03.PNG)"
   ]
  },
  {
   "cell_type": "markdown",
   "metadata": {},
   "source": [
    "The extreme emotional data can be avoided to a great extent by detecting and analyzing emotions while collecting data. The purpose of emotion detection is detecting user emotion, such as sadness, happiness, anger and more. But the disadvantages are people will use lots of different emotions words, such as \"kill\", \"marvellous\" or \"bull shit\". Another disadvantage is the words of subjectivity and tone. The detection of subjective and objective texts is also the same as important as analyzing tone. For example, there are two texts: The iPhone is pretty good./ The iPhone is black. Perhaps in the majority opinion, the first one is positive and the second is neutral. In these examples, pretty good is more subjective than red."
   ]
  },
  {
   "cell_type": "markdown",
   "metadata": {},
   "source": [
    "To summarise, there are four top benefits: \n",
    "1. prioritize action of the customer. Prioritize an extremely angry comment or a \"subtle\" \"thank you\". \n",
    "\n",
    "2. Track time of trends. \n",
    "\n",
    "3. Focus on a special time point, such as a bad new or new product launch. \n",
    "\n",
    "4. Keep a finger on the competition"
   ]
  },
  {
   "cell_type": "markdown",
   "metadata": {},
   "source": [
    "# Challange 3: Ambiguous privacy statements"
   ]
  },
  {
   "cell_type": "markdown",
   "metadata": {},
   "source": [
    "One of the main concerns is the users will worry about their security is the lack of visibility that the privacy statements and settings in social media. Most of the user will agree the terms of policies before they have to use internet services. But when the privacy statement changed, users are difficult to get the updates. The other concerns are the policies regarding data storage. There are four points to look for in the privacy policy and these questions will show the detail about the security level of this website.\n",
    "\n",
    "1.Who owns the data that a user posts?\n",
    "\n",
    "2.How to let users know the privacy policy change and noticed them feedback?\n",
    "\n",
    "3.How long is the personal information stored if they want to deleted their account?\n",
    "\n",
    "4.How and where can a user complain in case of any breach in privacy?"
   ]
  },
  {
   "cell_type": "markdown",
   "metadata": {},
   "source": [
    "# The ethical and social consequence of this study:"
   ]
  },
  {
   "cell_type": "markdown",
   "metadata": {},
   "source": [
    "Because of social networking, a person's life becomes much more fun and public. Social media allowed people to connect other users even though they never meet before. But person they do not want anyone getting out their privacy. Users are often the targets of data and information source on the internet. All users will leave digital imprints during they browse online service and website.Social media have three ways to access user information and data. \n",
    "\n",
    "First one shows the user detail with another user. Lots of application allows users to view the location detail of where person is visiting. Now there is more and more sensitive data use of phishing which through downloads through information, views of email and same series of communications downloads. Hackers will get information from normal emails and data. We can say social media opened up a new area for them.\n",
    "\n",
    "The second one is to share data with third parties. Even though all the popular application will sharing users' data with tracking and AD companies. For example, if users clicked an ad in facebook page, advertisers will got users ID and address and lead to a profile page. This process was used an illegally gathering users' personal information without their knowledge and might be sold to AD companies. \n",
    "\n",
    "The third is API. Application programming interface is a kind of routines and tools for building applications. It can collect and provide information that is not publicly accessible."
   ]
  },
  {
   "cell_type": "markdown",
   "metadata": {},
   "source": [
    "There are four potential dangers in privacy disclosure: "
   ]
  },
  {
   "cell_type": "markdown",
   "metadata": {},
   "source": [
    "1. Identity theft. Because of the social network providers so much information, the real name of users or ID number can be deduced. The following data could be used to check the users' identities: Full name, birthday, residential data, hobbies and hometown. The preteens and early teenagers are susceptible to social pressures or personal vanity, it will encourage young people to reveal personal data post online. Such as location, what are they doing and opinions. This is concerning because they do not realize the potential harm that information can do to them and how they are sacrificing their own privacy."
   ]
  },
  {
   "cell_type": "markdown",
   "metadata": {},
   "source": [
    "2. Sexual hunter.\n",
    "Social media is more and more popular for sexual prostituted. At the worst, teenager or children have become prey of pedophiles. Now sexual hunter could hide in the black hole of website. In an extreme case, a man named Peter Chapman, use a fake name to add more than 3000 online friends and kill and rape a 17-year-old girl in 2009."
   ]
  },
  {
   "cell_type": "markdown",
   "metadata": {},
   "source": [
    "3. Surveillance.\n",
    "We talked about every online click and website move leaves cyber footprints , personal company might track it. Our followers, parents and friends aren't the only ones that can see information about us."
   ]
  }
 ],
 "metadata": {
  "kernelspec": {
   "display_name": "Python 3",
   "language": "python",
   "name": "python3"
  },
  "language_info": {
   "codemirror_mode": {
    "name": "ipython",
    "version": 3
   },
   "file_extension": ".py",
   "mimetype": "text/x-python",
   "name": "python",
   "nbconvert_exporter": "python",
   "pygments_lexer": "ipython3",
   "version": "3.7.3"
  }
 },
 "nbformat": 4,
 "nbformat_minor": 2
}
